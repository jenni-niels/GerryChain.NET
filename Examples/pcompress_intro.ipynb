{
 "cells": [
  {
   "cell_type": "code",
   "execution_count": null,
   "metadata": {
    "dotnet_interactive": {
     "language": "csharp"
    }
   },
   "outputs": [
    {
     "data": {
      "text/html": [
       "<div><div></div><div></div><div><strong>Installed Packages</strong><ul><li><span>Newtonsoft.Json, 13.0.1</span></li><li><span>Plotly.NET, 2.0.0-preview.17</span></li><li><span>Plotly.NET.Interactive, 2.0.0-preview.17</span></li><li><span>QuikGraph, 2.3.0</span></li></ul></div></div>"
      ]
     },
     "metadata": {},
     "output_type": "display_data"
    },
    {
     "data": {
      "text/markdown": [
       "Loading extensions from `Plotly.NET.Interactive.dll`"
      ]
     },
     "metadata": {},
     "output_type": "display_data"
    }
   ],
   "source": [
    "#r \"nuget: Newtonsoft.Json, 13.0.1\"\n",
    "#r \"nuget: QuikGraph, 2.3.0\"\n",
    "#r \"nuget: Plotly.NET, 2.0.0-preview.17\"\n",
    "#r \"nuget: Plotly.NET.Interactive, 2.0.0-preview.17\""
   ]
  },
  {
   "cell_type": "code",
   "execution_count": null,
   "metadata": {
    "dotnet_interactive": {
     "language": "csharp"
    }
   },
   "outputs": [],
   "source": [
    "#r \"/Users/jnmatthews/MGGG/GerryChain.NET/GerryChain/bin/Release/net6.0/GerryChain.dll\"\n",
    "#r \"/Users/jnmatthews/MGGG/GerryChain.NET/GerryChainExtensions/PCompress/bin/Release/net6.0/PCompress.dll\""
   ]
  },
  {
   "cell_type": "code",
   "execution_count": null,
   "metadata": {
    "dotnet_interactive": {
     "language": "csharp"
    }
   },
   "outputs": [],
   "source": [
    "using System;\n",
    "using System.Linq;\n",
    "using Newtonsoft.Json;\n",
    "using Newtonsoft.Json.Linq;\n",
    "using Plotly.NET;\n",
    "using Plotly.NET.Interactive;\n",
    "using Plotly.NET.LayoutObjects;\n",
    "using GerryChain;\n",
    "using PCompress;"
   ]
  },
  {
   "cell_type": "code",
   "execution_count": null,
   "metadata": {
    "dotnet_interactive": {
     "language": "csharp"
    }
   },
   "outputs": [],
   "source": [
    "var TallyBVAP = Scores.TallyFactory(\"BVAP\", \"BVAP\");\n",
    "var TallyVAP = Scores.TallyFactory(\"VAP\", \"VAP\");\n",
    "var TallyPOP = Scores.TallyFactory(\"TOTPOP\", \"TOTPOP\");\n",
    "var initPart = new Partition(\"../resources/al_vtds20_with_seeds.json\", \"CD_Seed\", \"TOTPOP\", new string[] { \"TOTPOP\", \"VAP\", \"BVAP\" },\n",
    "                             new Score[] { TallyBVAP, TallyPOP, TallyVAP }, regionAware: true, regionDivisionSpecs: new (string, double)[]{(\"COUNTY\", 1)});\n",
    "var chain = new Chain(initPart, 1000, 0.05, batchSize:4);"
   ]
  },
  {
   "cell_type": "code",
   "execution_count": null,
   "metadata": {
    "dotnet_interactive": {
     "language": "csharp"
    }
   },
   "outputs": [],
   "source": [
    "var bs = chain.Select(p => ((DistrictWideScoreValue) p.Score(\"BVAP\")).Value.Zip(((DistrictWideScoreValue)p.Score(\"VAP\")).Value, (b, v) => b/v)).ToArray();"
   ]
  },
  {
   "cell_type": "code",
   "execution_count": null,
   "metadata": {
    "dotnet_interactive": {
     "language": "csharp"
    }
   },
   "outputs": [
    {
     "data": {
      "text/html": [
       "<table><thead><tr><th><i>index</i></th><th>value</th></tr></thead><tbody><tr><td>0</td><td><div class=\"dni-plaintext\">0.244974735891391</div></td></tr><tr><td>1</td><td><div class=\"dni-plaintext\">0.16951728221183604</div></td></tr><tr><td>2</td><td><div class=\"dni-plaintext\">0.18607587146687765</div></td></tr><tr><td>3</td><td><div class=\"dni-plaintext\">0.13258485970646555</div></td></tr><tr><td>4</td><td><div class=\"dni-plaintext\">0.3611319531617938</div></td></tr><tr><td>5</td><td><div class=\"dni-plaintext\">0.36776413657137735</div></td></tr><tr><td>6</td><td><div class=\"dni-plaintext\">0.28313392857142855</div></td></tr></tbody></table>"
      ]
     },
     "metadata": {},
     "output_type": "display_data"
    }
   ],
   "source": [
    "bs[0]"
   ]
  },
  {
   "cell_type": "markdown",
   "metadata": {},
   "source": [
    "## Recording a chain"
   ]
  },
  {
   "cell_type": "code",
   "execution_count": null,
   "metadata": {
    "dotnet_interactive": {
     "language": "csharp"
    }
   },
   "outputs": [],
   "source": [
    "var rec = new Recorder(chain, \"test.chain\");\n",
    "rec.Record();"
   ]
  },
  {
   "cell_type": "markdown",
   "metadata": {
    "dotnet_interactive": {
     "language": "csharp"
    }
   },
   "source": [
    "## Replaying the previous chain"
   ]
  },
  {
   "cell_type": "code",
   "execution_count": null,
   "metadata": {
    "dotnet_interactive": {
     "language": "csharp"
    }
   },
   "outputs": [],
   "source": [
    "var g = GraphParsers.LoadGraphFromJson(\"../resources/al_vtds20_with_seeds.json\", \"TOTPOP\", new string[] { \"TOTPOP\", \"VAP\", \"BVAP\" });"
   ]
  },
  {
   "cell_type": "code",
   "execution_count": null,
   "metadata": {
    "dotnet_interactive": {
     "language": "csharp"
    }
   },
   "outputs": [],
   "source": [
    "var replayer = new Replayer(g.graph, new Score[] { TallyBVAP, TallyPOP, TallyVAP }, \"test.chain\");"
   ]
  },
  {
   "cell_type": "code",
   "execution_count": null,
   "metadata": {
    "dotnet_interactive": {
     "language": "csharp"
    }
   },
   "outputs": [],
   "source": [
    "var dist1BVAPs = new double[1000];\n",
    "var numCutEdges = new int[1000];\n",
    "int i = 0;\n",
    "\n",
    "foreach (Partition p in replayer.Replay())\n",
    "{\n",
    "    numCutEdges[i] = p.CutEdges.Count();\n",
    "    dist1BVAPs[i] = ((DistrictWideScoreValue)p.Score(\"BVAP\")).Value [0];\n",
    "    i++;\n",
    "}"
   ]
  },
  {
   "cell_type": "code",
   "execution_count": null,
   "metadata": {
    "dotnet_interactive": {
     "language": "csharp"
    }
   },
   "outputs": [],
   "source": [
    "GenericChart.GenericChart chart = Chart2D.Chart.Histogram<int,int,int>(X: numCutEdges)\n",
    "    .WithYAxisStyle(title: Title.init(\"CutEdges\"), ShowGrid: false, ShowLine: true);"
   ]
  },
  {
   "cell_type": "code",
   "execution_count": null,
   "metadata": {
    "dotnet_interactive": {
     "language": "csharp"
    }
   },
   "outputs": [
    {
     "data": {
      "text/html": [
       "<table><thead><tr><th><i>index</i></th><th>value</th></tr></thead><tbody><tr><td>0</td><td><div class=\"dni-plaintext\">772</div></td></tr><tr><td>1</td><td><div class=\"dni-plaintext\">774</div></td></tr><tr><td>2</td><td><div class=\"dni-plaintext\">812</div></td></tr><tr><td>3</td><td><div class=\"dni-plaintext\">790</div></td></tr><tr><td>4</td><td><div class=\"dni-plaintext\">766</div></td></tr><tr><td>5</td><td><div class=\"dni-plaintext\">762</div></td></tr><tr><td>6</td><td><div class=\"dni-plaintext\">772</div></td></tr><tr><td>7</td><td><div class=\"dni-plaintext\">774</div></td></tr><tr><td>8</td><td><div class=\"dni-plaintext\">792</div></td></tr><tr><td>9</td><td><div class=\"dni-plaintext\">704</div></td></tr><tr><td>10</td><td><div class=\"dni-plaintext\">708</div></td></tr><tr><td>11</td><td><div class=\"dni-plaintext\">708</div></td></tr><tr><td>12</td><td><div class=\"dni-plaintext\">716</div></td></tr><tr><td>13</td><td><div class=\"dni-plaintext\">788</div></td></tr><tr><td>14</td><td><div class=\"dni-plaintext\">742</div></td></tr><tr><td>15</td><td><div class=\"dni-plaintext\">760</div></td></tr><tr><td>16</td><td><div class=\"dni-plaintext\">720</div></td></tr><tr><td>17</td><td><div class=\"dni-plaintext\">698</div></td></tr><tr><td>18</td><td><div class=\"dni-plaintext\">698</div></td></tr><tr><td>19</td><td><div class=\"dni-plaintext\">732</div></td></tr><tr><td colspan=\"2\"><i>(980 more)</i></td></tr></tbody></table>"
      ]
     },
     "metadata": {},
     "output_type": "display_data"
    }
   ],
   "source": [
    "numCutEdges"
   ]
  }
 ],
 "metadata": {
  "kernelspec": {
   "display_name": ".NET (C#)",
   "language": "C#",
   "name": ".net-csharp"
  },
  "language_info": {
   "file_extension": ".cs",
   "mimetype": "text/x-csharp",
   "name": "C#",
   "pygments_lexer": "csharp",
   "version": "9.0"
  },
  "orig_nbformat": 4
 },
 "nbformat": 4,
 "nbformat_minor": 2
}
