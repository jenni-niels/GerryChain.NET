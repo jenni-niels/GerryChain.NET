{
 "cells": [
  {
   "cell_type": "code",
   "execution_count": null,
   "metadata": {
    "dotnet_interactive": {
     "language": "csharp"
    }
   },
   "outputs": [
    {
     "data": {
      "text/html": [
       "<div><div></div><div></div><div><strong>Installed Packages</strong><ul><li><span>Newtonsoft.Json, 13.0.1</span></li><li><span>QuikGraph, 2.3.0</span></li></ul></div></div>"
      ]
     },
     "metadata": {},
     "output_type": "display_data"
    }
   ],
   "source": [
    "#r \"nuget: Newtonsoft.Json, 13.0.1\"\n",
    "#r \"nuget: QuikGraph, 2.3.0\"\n",
    "#r \"/Users/jnmatthews/MGGG/GerryChain.NET/GerryChain/bin/Release/net5.0/GerryChain.dll\""
   ]
  },
  {
   "cell_type": "code",
   "execution_count": null,
   "metadata": {
    "dotnet_interactive": {
     "language": "csharp"
    }
   },
   "outputs": [],
   "source": [
    "using System;\n",
    "using System.Linq;\n",
    "using Newtonsoft.Json;\n",
    "using Newtonsoft.Json.Linq;\n",
    "using GerryChain;"
   ]
  },
  {
   "cell_type": "code",
   "execution_count": null,
   "metadata": {
    "dotnet_interactive": {
     "language": "csharp"
    }
   },
   "outputs": [],
   "source": [
    "var TallyBVAP = Scores.TallyFactory(\"BVAP\", \"BVAP\");\n",
    "var TallyVAP = Scores.TallyFactory(\"VAP\", \"VAP\");\n",
    "var TallyPOP = Scores.TallyFactory(\"TOTPOP\", \"TOTPOP\");\n",
    "var initPart = new Partition(\"../resources/al_vtds20_with_seeds.json\", \"CD_Seed\", \"TOTPOP\", new string[] { \"TOTPOP\", \"VAP\", \"BVAP\" }, new Score[] { TallyBVAP, TallyPOP, TallyVAP });\n",
    "var chain = new ReComChain(initPart, 100, 0.01, batchSize:4);"
   ]
  },
  {
   "cell_type": "code",
   "execution_count": null,
   "metadata": {
    "dotnet_interactive": {
     "language": "csharp"
    }
   },
   "outputs": [],
   "source": [
    "var bs = chain.Select(p => ((DistrictWideScoreValue) p.Score(\"BVAP\")).Value.Zip(((DistrictWideScoreValue)p.Score(\"VAP\")).Value, (b, v) => b/v)).ToArray();"
   ]
  },
  {
   "cell_type": "code",
   "execution_count": null,
   "metadata": {
    "dotnet_interactive": {
     "language": "csharp"
    }
   },
   "outputs": [
    {
     "data": {
      "text/html": [
       "<table><thead><tr><th><i>index</i></th><th>value</th></tr></thead><tbody><tr><td>0</td><td><div class=\"dni-plaintext\">[ 0.13258485970646555, 0.16951728221183604, 0.18607587146687765, 0.244974735891391, 0.28313392857142855, 0.3611319531617938, 0.36776413657137735 ]</div></td></tr><tr><td>1</td><td><div class=\"dni-plaintext\">[ 0.13258485970646555, 0.16951728221183604, 0.18563988946987456, 0.24531838529999608, 0.28313392857142855, 0.3611319531617938, 0.36776413657137735 ]</div></td></tr><tr><td>2</td><td><div class=\"dni-plaintext\">[ 0.13258485970646555, 0.16951728221183604, 0.18706918176775475, 0.24531838529999608, 0.28313392857142855, 0.35914404250153525, 0.36776413657137735 ]</div></td></tr><tr><td>3</td><td><div class=\"dni-plaintext\">[ 0.13258485970646555, 0.16951728221183604, 0.18706918176775475, 0.24531838529999608, 0.28313392857142855, 0.35914404250153525, 0.36776413657137735 ]</div></td></tr><tr><td>4</td><td><div class=\"dni-plaintext\">[ 0.13258485970646555, 0.16951728221183604, 0.18706918176775475, 0.24531838529999608, 0.2860378993814758, 0.35914404250153525, 0.3646277907650074 ]</div></td></tr><tr><td>5</td><td><div class=\"dni-plaintext\">[ 0.13258485970646555, 0.16951728221183604, 0.18706918176775475, 0.24531838529999608, 0.2860378993814758, 0.35914404250153525, 0.3646277907650074 ]</div></td></tr><tr><td>6</td><td><div class=\"dni-plaintext\">[ 0.13258485970646555, 0.16951728221183604, 0.18706918176775475, 0.24531838529999608, 0.2860378993814758, 0.35914404250153525, 0.3646277907650074 ]</div></td></tr><tr><td>7</td><td><div class=\"dni-plaintext\">[ 0.16951728221183604, 0.18706918176775475, 0.1906571755434092, 0.24531838529999608, 0.2860378993814758, 0.3015881775924716, 0.3646277907650074 ]</div></td></tr><tr><td>8</td><td><div class=\"dni-plaintext\">[ 0.16951728221183604, 0.18706918176775475, 0.1906571755434092, 0.24531838529999608, 0.2860378993814758, 0.3015881775924716, 0.3646277907650074 ]</div></td></tr><tr><td>9</td><td><div class=\"dni-plaintext\">[ 0.16951728221183604, 0.18706918176775475, 0.1906571755434092, 0.2529861761137882, 0.2860378993814758, 0.3015881775924716, 0.3568398623293629 ]</div></td></tr><tr><td>10</td><td><div class=\"dni-plaintext\">[ 0.16951728221183604, 0.18706918176775475, 0.1906571755434092, 0.2529861761137882, 0.2860378993814758, 0.3015881775924716, 0.3568398623293629 ]</div></td></tr><tr><td>11</td><td><div class=\"dni-plaintext\">[ 0.16951728221183604, 0.18706918176775475, 0.1906571755434092, 0.2529861761137882, 0.2860378993814758, 0.3015881775924716, 0.3568398623293629 ]</div></td></tr><tr><td>12</td><td><div class=\"dni-plaintext\">[ 0.16951728221183604, 0.18706918176775475, 0.1906571755434092, 0.2529861761137882, 0.2860378993814758, 0.3015881775924716, 0.3568398623293629 ]</div></td></tr><tr><td>13</td><td><div class=\"dni-plaintext\">[ 0.16951728221183604, 0.18706918176775475, 0.1906571755434092, 0.2529861761137882, 0.28093962916511306, 0.30675279654050963, 0.3568398623293629 ]</div></td></tr><tr><td>14</td><td><div class=\"dni-plaintext\">[ 0.16951728221183604, 0.18706918176775475, 0.24362720710656435, 0.2529861761137882, 0.25474907367093685, 0.28093962916511306, 0.3568398623293629 ]</div></td></tr><tr><td>15</td><td><div class=\"dni-plaintext\">[ 0.16951728221183604, 0.18706918176775475, 0.24362720710656435, 0.2460950612434382, 0.25474907367093685, 0.28093962916511306, 0.36315245239305094 ]</div></td></tr><tr><td>16</td><td><div class=\"dni-plaintext\">[ 0.16951728221183604, 0.18706918176775475, 0.24362720710656435, 0.2460950612434382, 0.25474907367093685, 0.30029758608740387, 0.3438215925283797 ]</div></td></tr><tr><td>17</td><td><div class=\"dni-plaintext\">[ 0.16951728221183604, 0.18706918176775475, 0.24362720710656435, 0.2460950612434382, 0.25474907367093685, 0.30029758608740387, 0.3438215925283797 ]</div></td></tr><tr><td>18</td><td><div class=\"dni-plaintext\">[ 0.16868943305410944, 0.18706918176775475, 0.24362720710656435, 0.2460950612434382, 0.2560179385224322, 0.30029758608740387, 0.3438215925283797 ]</div></td></tr><tr><td>19</td><td><div class=\"dni-plaintext\">[ 0.16868943305410944, 0.18706918176775475, 0.24362720710656435, 0.2460950612434382, 0.2560179385224322, 0.30029758608740387, 0.3438215925283797 ]</div></td></tr><tr><td colspan=\"2\">(80 more)</td></tr></tbody></table>"
      ]
     },
     "metadata": {},
     "output_type": "display_data"
    }
   ],
   "source": [
    "bs.Select(v => v.OrderBy(v => v))"
   ]
  }
 ],
 "metadata": {
  "kernelspec": {
   "display_name": ".NET (C#)",
   "language": "C#",
   "name": ".net-csharp"
  },
  "language_info": {
   "file_extension": ".cs",
   "mimetype": "text/x-csharp",
   "name": "C#",
   "pygments_lexer": "csharp",
   "version": "9.0"
  },
  "orig_nbformat": 4
 },
 "nbformat": 4,
 "nbformat_minor": 2
}
